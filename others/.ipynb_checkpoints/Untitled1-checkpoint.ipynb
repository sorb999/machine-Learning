{
 "cells": [
  {
   "cell_type": "code",
   "execution_count": 10,
   "metadata": {
    "collapsed": false
   },
   "outputs": [
    {
     "name": "stdout",
     "output_type": "stream",
     "text": [
      "           preg      plas      pres      skin      test      mass      pedi  \\\n",
      "preg   1.000000  0.129459  0.141282 -0.081672 -0.073535  0.017683 -0.033523   \n",
      "plas   0.129459  1.000000  0.152590  0.057328  0.331357  0.221071  0.137337   \n",
      "pres   0.141282  0.152590  1.000000  0.207371  0.088933  0.281805  0.041265   \n",
      "skin  -0.081672  0.057328  0.207371  1.000000  0.436783  0.392573  0.183928   \n",
      "test  -0.073535  0.331357  0.088933  0.436783  1.000000  0.197859  0.185071   \n",
      "mass   0.017683  0.221071  0.281805  0.392573  0.197859  1.000000  0.140647   \n",
      "pedi  -0.033523  0.137337  0.041265  0.183928  0.185071  0.140647  1.000000   \n",
      "age    0.544341  0.263514  0.239528 -0.113970 -0.042163  0.036242  0.033561   \n",
      "class  0.221898  0.466581  0.065068  0.074752  0.130548  0.292695  0.173844   \n",
      "\n",
      "            age     class  \n",
      "preg   0.544341  0.221898  \n",
      "plas   0.263514  0.466581  \n",
      "pres   0.239528  0.065068  \n",
      "skin  -0.113970  0.074752  \n",
      "test  -0.042163  0.130548  \n",
      "mass   0.036242  0.292695  \n",
      "pedi   0.033561  0.173844  \n",
      "age    1.000000  0.238356  \n",
      "class  0.238356  1.000000  \n"
     ]
    }
   ],
   "source": [
    "run dataframe2.py"
   ]
  },
  {
   "cell_type": "code",
   "execution_count": null,
   "metadata": {
    "collapsed": true
   },
   "outputs": [],
   "source": []
  }
 ],
 "metadata": {
  "kernelspec": {
   "display_name": "Python 3",
   "language": "python",
   "name": "python3"
  },
  "language_info": {
   "codemirror_mode": {
    "name": "ipython",
    "version": 3
   },
   "file_extension": ".py",
   "mimetype": "text/x-python",
   "name": "python",
   "nbconvert_exporter": "python",
   "pygments_lexer": "ipython3",
   "version": "3.6.0"
  }
 },
 "nbformat": 4,
 "nbformat_minor": 2
}
